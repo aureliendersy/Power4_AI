{
  "nbformat": 4,
  "nbformat_minor": 0,
  "metadata": {
    "accelerator": "GPU",
    "colab": {
      "name": "Power4_AI.ipynb",
      "provenance": [],
      "collapsed_sections": [],
      "authorship_tag": "ABX9TyPJN2WxD06Dz0zVQxvdyoD8",
      "include_colab_link": true
    },
    "kernelspec": {
      "display_name": "Python 3",
      "name": "python3"
    },
    "language_info": {
      "name": "python"
    }
  },
  "cells": [
    {
      "cell_type": "markdown",
      "metadata": {
        "id": "view-in-github",
        "colab_type": "text"
      },
      "source": [
        "<a href=\"https://colab.research.google.com/github/aureliendersy/Power4_AI/blob/main/Power4_AI.ipynb\" target=\"_parent\"><img src=\"https://colab.research.google.com/assets/colab-badge.svg\" alt=\"Open In Colab\"/></a>"
      ]
    },
    {
      "cell_type": "markdown",
      "metadata": {
        "id": "SajuMWfrd0gz"
      },
      "source": [
        "Goal of the notebook is to implement the game of powerfour and to train an AI on it"
      ]
    },
    {
      "cell_type": "markdown",
      "metadata": {
        "id": "r0gHoPTXd502"
      },
      "source": [
        "# Setting up the game"
      ]
    },
    {
      "cell_type": "code",
      "metadata": {
        "colab": {
          "base_uri": "https://localhost:8080/"
        },
        "id": "Yk0wrwLZef3u",
        "outputId": "696cc25f-8819-4012-c92d-ac5c55199953"
      },
      "source": [
        "!pip install colorama"
      ],
      "execution_count": null,
      "outputs": [
        {
          "output_type": "stream",
          "text": [
            "Requirement already satisfied: colorama in /usr/local/lib/python3.7/dist-packages (0.4.4)\n"
          ],
          "name": "stdout"
        }
      ]
    },
    {
      "cell_type": "code",
      "metadata": {
        "id": "rrQAIQi3dwmw"
      },
      "source": [
        "from colorama import Fore\n",
        "from colorama import Style\n",
        "from random import sample\n",
        "import numpy as np\n",
        "\n",
        "class Player:\n",
        "    \n",
        "    def __init__(self,name,marker, human=True):\n",
        "        self.name=name\n",
        "        self.piece=marker\n",
        "        self.is_human = human\n",
        "    \n",
        "    def display_player(self):  \n",
        "        print('Player '+self.name+', playing with the '+self.piece+' markers')\n",
        "    \n",
        "    def ask_move(self, valid_moves, board_state):\n",
        "      col1=input('Player '+ self.name +' where do you want to place your piece ?')\n",
        "\n",
        "      while not col1.isdigit():\n",
        "        col1= input('Please enter a positive numerical column')\n",
        "\n",
        "      while int(col1)-1 not in valid_moves:\n",
        "          print('This is not a valid column')\n",
        "          col1=input('Please enter a new column :')\n",
        "\n",
        "      return col1\n",
        "\n",
        "\n",
        "class Computer(Player):\n",
        "    def __init__(self,name,marker):\n",
        "      super(Player, self).__init__(name, marker, human=False) \n",
        "\n",
        "class RandomComputer(Computer):\n",
        "    def __init__(self, name, marker):\n",
        "      super(Computer, self).__init__(name, marker) \n",
        "\n",
        "    def ask_move(self, valid_moves, board_state):\n",
        "      return sample(valid_moves,1)[0]+1\n",
        "\n",
        "class TrainedComputer(Computer):\n",
        "    def __init__(self, name, marker, agent):\n",
        "      super(Computer, self).__init__(name, marker) \n",
        "      self.agent = agent\n",
        "\n",
        "    def ask_move(self, valid_moves, board_state):\n",
        "      \n",
        "      desired_move = self.agent.act(board_state.flatten())\n",
        "\n",
        "      if desired_move in valid_moves: \n",
        "        return self.agent.act(board_state.flatten()) + 1\n",
        "      else:\n",
        "        return valid_moves[-1] +1\n",
        "\n",
        "\n",
        "class Board:\n",
        "    \n",
        "    def __init__(self, grid_size=8):\n",
        "        self.grid_size = grid_size\n",
        "        self.grid = np.zeros((self.grid_size, self.grid_size), dtype=int)\n",
        "        \n",
        "    def display_grid(self, markers=None):\n",
        "\n",
        "        if markers is None:\n",
        "          markers=['x', 'x']\n",
        "        for line in self.grid:\n",
        "            for piece in line:\n",
        "                if piece==0:\n",
        "                    print('|'+'.',end='')\n",
        "                elif piece==1:\n",
        "                    print('|'+'\\033[34m' + markers[0] + '\\033[0m',end='')   \n",
        "                else: \n",
        "                    print('|'+'\\033[35m' + markers[1] + '\\033[0m',end='')   \n",
        "            print('|')\n",
        "        print(' '+'1 2 3 4 5 6 7 8') # %TODO   Change this\n",
        "        print('\\n')    \n",
        "                   \n",
        "    def valid_move(self,col):\n",
        "        return self.grid[0][col]==0\n",
        "\n",
        "    def place_piece(self,piece,col):\n",
        "        \n",
        "        i=len(self.grid)-1\n",
        "        while self.grid[i][col]!=0:\n",
        "            i=i-1\n",
        "        self.grid[i][col]=piece    \n",
        "  \n",
        "    def check_victory(self):\n",
        "        columns=False\n",
        "        lines=False\n",
        "        diagonals=False\n",
        "        for i in range(0,len(self.grid)):\n",
        "            for j in range(0,len(self.grid)-3):\n",
        "                if all(self.grid[j][i]==self.grid[k][i] for k in range(j,j+4)) and self.grid[j][i]!=0:\n",
        "                    columns=True\n",
        "        \n",
        "        for i in range(0,len(self.grid)-3):\n",
        "            for j in range(0,len(self.grid)):\n",
        "                if all(self.grid[j][i]==self.grid[j][k] for k in range(i,i+4)) and self.grid[j][i]!=0:\n",
        "                    lines=True    \n",
        "                    \n",
        "        for i in range(0,len(self.grid)-3):\n",
        "            for j in range(0,len(self.grid)-3): \n",
        "                if all(self.grid[j][i]==self.grid[j+k][i+k] for k in range (0,4)) and self.grid[j][i]!=0:\n",
        "                    diagonals=True\n",
        "        for i in range(0,len(self.grid)-3):\n",
        "            for j in range(3,len(self.grid)): \n",
        "                if all(self.grid[j][i]==self.grid[j-k][i+k] for k in range (0,4)) and self.grid[j][i]!=0:\n",
        "                    diagonals=True            \n",
        "                        \n",
        "        return (columns or lines or diagonals)  \n",
        "    \n",
        "    def board_full(self):\n",
        "       return self.grid.all()\n",
        "\n",
        "class Game:\n",
        "    def __init__(self, show_game=True):\n",
        "        self.players=[]\n",
        "        self.board=Board()\n",
        "        self.show_game = show_game\n",
        "        \n",
        "    def add_player(self,player):\n",
        "        self.players.append(player)\n",
        "        \n",
        "    def introduce_game(self):\n",
        "        print('Let\\'s introduce our players: ')\n",
        "        for player in self.players:\n",
        "          player.display_player()    \n",
        "        print('We will be playing with the standard grid as shown:')\n",
        "        Board().display_grid()         \n",
        "\n",
        "    def play_game(self):\n",
        "        markers_players = [player.piece for player in self.players]\n",
        "        col_nums = range(0, len(self.board.grid))\n",
        "\n",
        "        if self.show_game:\n",
        "          self.introduce_game()\n",
        "        while(not self.board.board_full() and not self.board.check_victory()):\n",
        "          \n",
        "          col1 = self.players[0].ask_move([move for move in col_nums if self.board.valid_move(move)], self.board.grid)\n",
        "          self.board.place_piece(1,int(col1)-1)\n",
        "          \n",
        "          if self.show_game:\n",
        "            self.board.display_grid(markers_players)\n",
        "        \n",
        "          if not self.board.check_victory():\n",
        "              col2= self.players[1].ask_move([move for move in col_nums if self.board.valid_move(move)],self.board.grid)\n",
        "              self.board.place_piece(-1,int(col2)-1)\n",
        "              \n",
        "              if self.show_game:\n",
        "                self.board.display_grid(markers_players)\n",
        "              \n",
        "              if self.board.check_victory():\n",
        "                  if self.show_game:\n",
        "                    print('Victory for player '+ self.players[1].name)      \n",
        "                  return 2\n",
        "          else:\n",
        "              if self.show_game:\n",
        "                print('Victory for player '+ self.players[0].name)\n",
        "              return 1\n",
        "        if not self.board.check_victory():\n",
        "            if self.show_game:\n",
        "              print('The board is full and it is a draw')\n",
        "            return 0\n"
      ],
      "execution_count": null,
      "outputs": []
    },
    {
      "cell_type": "code",
      "metadata": {
        "id": "y-ZXIgO8eoEB"
      },
      "source": [
        "Apolline=Player('Apolline','x')\n",
        "Aurelien=Player('Aurelien','O')\n",
        "Bot1 = RandomComputer('Bot1', 'X')\n",
        "Bot2 = RandomComputer('Bot2', 'O')"
      ],
      "execution_count": null,
      "outputs": []
    },
    {
      "cell_type": "code",
      "metadata": {
        "id": "T8c_0icvOHSW"
      },
      "source": [
        "board1= Board()"
      ],
      "execution_count": null,
      "outputs": []
    },
    {
      "cell_type": "code",
      "metadata": {
        "colab": {
          "base_uri": "https://localhost:8080/"
        },
        "id": "3Mj4GY9Sepq9",
        "outputId": "e6c67bba-ae7c-4a7c-a679-6e08d3a86045"
      },
      "source": [
        "game_real=Game(show_game=False)\n",
        "game_real.add_player(Bot1)\n",
        "game_real.add_player(Bot2)\n",
        "game_real.play_game()"
      ],
      "execution_count": null,
      "outputs": [
        {
          "output_type": "execute_result",
          "data": {
            "text/plain": [
              "1"
            ]
          },
          "metadata": {
            "tags": []
          },
          "execution_count": 44
        }
      ]
    },
    {
      "cell_type": "code",
      "metadata": {
        "colab": {
          "base_uri": "https://localhost:8080/"
        },
        "id": "t1D2nlSCrYmA",
        "outputId": "29e9c7f1-a28c-42be-a8f7-18c7d7e5bb22"
      },
      "source": [
        "from collections import Counter\n",
        "results = []\n",
        "for i in range(1000):\n",
        "  game_real=Game(show_game=False)\n",
        "  game_real.add_player(Bot1)\n",
        "  game_real.add_player(Bot2)\n",
        "  result = game_real.play_game()\n",
        "  results.append(result)\n",
        "\n",
        "Counter(results)"
      ],
      "execution_count": null,
      "outputs": [
        {
          "output_type": "execute_result",
          "data": {
            "text/plain": [
              "Counter({1: 429, 2: 571})"
            ]
          },
          "metadata": {
            "tags": []
          },
          "execution_count": 45
        }
      ]
    },
    {
      "cell_type": "markdown",
      "metadata": {
        "id": "zi2Q2TXNIQeR"
      },
      "source": [
        "# AI for the computer with RL"
      ]
    },
    {
      "cell_type": "markdown",
      "metadata": {
        "id": "UZJaHx_RISmJ"
      },
      "source": [
        "## Imports "
      ]
    },
    {
      "cell_type": "code",
      "metadata": {
        "colab": {
          "base_uri": "https://localhost:8080/"
        },
        "id": "sGokFppzITmu",
        "outputId": "991fb3c4-5232-4f33-94db-3bdcbee790f0"
      },
      "source": [
        "!pip install chainerrl"
      ],
      "execution_count": null,
      "outputs": [
        {
          "output_type": "stream",
          "text": [
            "Requirement already satisfied: chainerrl in /usr/local/lib/python3.7/dist-packages (0.8.0)\n",
            "Requirement already satisfied: numpy>=1.10.4 in /usr/local/lib/python3.7/dist-packages (from chainerrl) (1.19.5)\n",
            "Requirement already satisfied: pillow in /usr/local/lib/python3.7/dist-packages (from chainerrl) (7.1.2)\n",
            "Requirement already satisfied: gym>=0.9.7 in /usr/local/lib/python3.7/dist-packages (from chainerrl) (0.17.3)\n",
            "Requirement already satisfied: chainer>=2.0.0 in /usr/local/lib/python3.7/dist-packages (from chainerrl) (7.8.0)\n",
            "Requirement already satisfied: scipy in /usr/local/lib/python3.7/dist-packages (from chainerrl) (1.4.1)\n",
            "Requirement already satisfied: cached-property in /usr/local/lib/python3.7/dist-packages (from chainerrl) (1.5.2)\n",
            "Requirement already satisfied: cloudpickle<1.7.0,>=1.2.0 in /usr/local/lib/python3.7/dist-packages (from gym>=0.9.7->chainerrl) (1.3.0)\n",
            "Requirement already satisfied: pyglet<=1.5.0,>=1.4.0 in /usr/local/lib/python3.7/dist-packages (from gym>=0.9.7->chainerrl) (1.5.0)\n",
            "Requirement already satisfied: setuptools in /usr/local/lib/python3.7/dist-packages (from chainer>=2.0.0->chainerrl) (57.0.0)\n",
            "Requirement already satisfied: filelock in /usr/local/lib/python3.7/dist-packages (from chainer>=2.0.0->chainerrl) (3.0.12)\n",
            "Requirement already satisfied: protobuf>=3.0.0 in /usr/local/lib/python3.7/dist-packages (from chainer>=2.0.0->chainerrl) (3.12.4)\n",
            "Requirement already satisfied: six>=1.9.0 in /usr/local/lib/python3.7/dist-packages (from chainer>=2.0.0->chainerrl) (1.15.0)\n",
            "Requirement already satisfied: typing-extensions in /usr/local/lib/python3.7/dist-packages (from chainer>=2.0.0->chainerrl) (3.7.4.3)\n",
            "Requirement already satisfied: future in /usr/local/lib/python3.7/dist-packages (from pyglet<=1.5.0,>=1.4.0->gym>=0.9.7->chainerrl) (0.16.0)\n"
          ],
          "name": "stdout"
        }
      ]
    },
    {
      "cell_type": "code",
      "metadata": {
        "id": "q3ZkBEJAIZUG"
      },
      "source": [
        "import gym\n",
        "import random\n",
        "from gym import spaces\n",
        "from copy import deepcopy\n",
        "import logging\n",
        "import os\n",
        "\n",
        "import chainer\n",
        "from chainer import functions as F\n",
        "import gym.spaces\n",
        "\n",
        "import chainerrl"
      ],
      "execution_count": null,
      "outputs": []
    },
    {
      "cell_type": "markdown",
      "metadata": {
        "id": "zL5gvykSIhyW"
      },
      "source": [
        "## Environment wrapper"
      ]
    },
    {
      "cell_type": "code",
      "metadata": {
        "id": "6HAfmwYFIkJX"
      },
      "source": [
        "class Power4Env(gym.Env):\n",
        "  def __init__(self, grid_size=8):\n",
        "    super(Power4Env, self).__init__()\n",
        "    self.grid_size = grid_size\n",
        "    self.board = Board(grid_size)\n",
        "\n",
        "    self.action_space = spaces.Discrete(grid_size)\n",
        "    #self.observation_space = spaces.MultiDiscrete([2 for _ in range(0, grid_size*grid_size*3)])\n",
        "    self.observation_space = spaces.Box(low=-1, high=1, shape=(grid_size, grid_size), dtype=np.int32)\n",
        "\n",
        "  def reset(self):\n",
        "    self.board = Board(self.grid_size)\n",
        "    return self.board.grid.flatten()\n",
        "\n",
        "  def render(self, mode=\"human\"):\n",
        "    self.board.display_grid()\n",
        "  \n",
        "  def close(self):\n",
        "    pass\n",
        "  \n",
        "  def step(self, action):\n",
        "\n",
        "    player, column = action\n",
        "    if self.board.valid_move(int(column)):\n",
        "      self.board.place_piece(player,int(column))\n",
        "    else:\n",
        "      valid_moves = [move for move in range(self.grid_size) if self.board.valid_move(move)]\n",
        "      self.board.place_piece(player, valid_moves[-1])\n",
        "\n",
        "    done = self.board.check_victory() or self.board.board_full()\n",
        "\n",
        "    reward = 1 if self.board.check_victory() else 0\n",
        "    info = {}\n",
        "\n",
        "    return self.board.grid.flatten() , reward, done, info"
      ],
      "execution_count": null,
      "outputs": []
    },
    {
      "cell_type": "code",
      "metadata": {
        "colab": {
          "base_uri": "https://localhost:8080/"
        },
        "id": "cr7xlHTOkXUS",
        "outputId": "d1300450-2cf2-4b8e-cc04-6920efe7915e"
      },
      "source": [
        "env = Power4Env()\n",
        "obs_space = env.observation_space\n",
        "action_space = env.action_space\n",
        "print('Observation space:', obs_space)\n",
        "print('Action space:', action_space)"
      ],
      "execution_count": null,
      "outputs": [
        {
          "output_type": "stream",
          "text": [
            "Observation space: Box(-1, 1, (8, 8), int32)\n",
            "Action space: Discrete(8)\n"
          ],
          "name": "stdout"
        }
      ]
    },
    {
      "cell_type": "code",
      "metadata": {
        "colab": {
          "base_uri": "https://localhost:8080/"
        },
        "id": "Ykp31DpdnOI_",
        "outputId": "aad165b6-0d98-4964-b642-a9060d5dfa49"
      },
      "source": [
        "obs = env.reset()\n",
        "env.render()\n",
        "print('initial observation:', obs)\n",
        "\n",
        "action = env.action_space.sample()\n",
        "obs, r, done, info = env.step((1, action))\n",
        "env.render()\n",
        "print('next observation:', obs)\n",
        "print('reward:', r)\n",
        "print('done:', done)\n",
        "print('info:', info)"
      ],
      "execution_count": null,
      "outputs": [
        {
          "output_type": "stream",
          "text": [
            "|.|.|.|.|.|.|.|.|\n",
            "|.|.|.|.|.|.|.|.|\n",
            "|.|.|.|.|.|.|.|.|\n",
            "|.|.|.|.|.|.|.|.|\n",
            "|.|.|.|.|.|.|.|.|\n",
            "|.|.|.|.|.|.|.|.|\n",
            "|.|.|.|.|.|.|.|.|\n",
            "|.|.|.|.|.|.|.|.|\n",
            " 1 2 3 4 5 6 7 8\n",
            "\n",
            "\n",
            "initial observation: [0 0 0 0 0 0 0 0 0 0 0 0 0 0 0 0 0 0 0 0 0 0 0 0 0 0 0 0 0 0 0 0 0 0 0 0 0\n",
            " 0 0 0 0 0 0 0 0 0 0 0 0 0 0 0 0 0 0 0 0 0 0 0 0 0 0 0]\n",
            "|.|.|.|.|.|.|.|.|\n",
            "|.|.|.|.|.|.|.|.|\n",
            "|.|.|.|.|.|.|.|.|\n",
            "|.|.|.|.|.|.|.|.|\n",
            "|.|.|.|.|.|.|.|.|\n",
            "|.|.|.|.|.|.|.|.|\n",
            "|.|.|.|.|.|.|.|.|\n",
            "|.|.|.|.|.|.|.|\u001b[34mx\u001b[0m|\n",
            " 1 2 3 4 5 6 7 8\n",
            "\n",
            "\n",
            "next observation: [0 0 0 0 0 0 0 0 0 0 0 0 0 0 0 0 0 0 0 0 0 0 0 0 0 0 0 0 0 0 0 0 0 0 0 0 0\n",
            " 0 0 0 0 0 0 0 0 0 0 0 0 0 0 0 0 0 0 0 0 0 0 0 0 0 0 1]\n",
            "reward: 0\n",
            "done: False\n",
            "info: {}\n"
          ],
          "name": "stdout"
        }
      ]
    },
    {
      "cell_type": "markdown",
      "metadata": {
        "id": "VFMaNtvZkR9M"
      },
      "source": [
        "## Define the RL agents"
      ]
    },
    {
      "cell_type": "code",
      "metadata": {
        "id": "d7l7EFUAJn0i"
      },
      "source": [
        "q_func_player1 = chainerrl.q_functions.FCStateQFunctionWithDiscreteAction(\n",
        "    obs_space.low.size, action_space.n,\n",
        "    n_hidden_layers=2, n_hidden_channels=248)\n",
        "q_func_player1.to_gpu(0)\n",
        "\n",
        "q_func_player2 = chainerrl.q_functions.FCStateQFunctionWithDiscreteAction(\n",
        "    obs_space.low.size, action_space.n,\n",
        "    n_hidden_layers=2, n_hidden_channels=248)\n",
        "q_func_player2.to_gpu(0)\n",
        "\n",
        "optimizer_dqn_1 = chainer.optimizers.Adam(eps=1e-2)\n",
        "optimizer_dqn_1.setup(q_func_player1)\n",
        "\n",
        "optimizer_dqn_2 = chainer.optimizers.Adam(eps=1e-2)\n",
        "optimizer_dqn_2.setup(q_func_player2)\n",
        "# Set the discount factor that discounts future rewards.\n",
        "gamma_dqn = 0.95\n",
        "\n",
        "# Use epsilon-greedy for exploration\n",
        "explorer_1 = chainerrl.explorers.ConstantEpsilonGreedy(\n",
        "    epsilon=0.3, random_action_func=env.action_space.sample)\n",
        "\n",
        "explorer_2 = chainerrl.explorers.ConstantEpsilonGreedy(\n",
        "    epsilon=0.3, random_action_func=env.action_space.sample)\n",
        "\n",
        "# DQN uses Experience Replay.\n",
        "# Specify a replay buffer and its capacity.\n",
        "replay_buffer_1 = chainerrl.replay_buffer.ReplayBuffer(capacity=10 ** 6)\n",
        "replay_buffer_2 = chainerrl.replay_buffer.ReplayBuffer(capacity=10 ** 6)\n",
        "\n",
        "# Type conversion\n",
        "phi = lambda x: x.astype(np.float32, copy=False)\n",
        "\n",
        "# Now create an agent that will interact with the environment.\n",
        "agent_dqn_player1 = chainerrl.agents.DoubleDQN(\n",
        "    q_func_player1, optimizer_dqn_1, replay_buffer_1, gamma_dqn, explorer_1,\n",
        "    replay_start_size=500, update_interval=1,\n",
        "    target_update_interval=100,phi=phi)\n",
        "\n",
        "agent_dqn_player2 = chainerrl.agents.DoubleDQN(\n",
        "    q_func_player2, optimizer_dqn_2, replay_buffer_2, gamma_dqn, explorer_2,\n",
        "    replay_start_size=500, update_interval=1,\n",
        "    target_update_interval=100,phi=phi)"
      ],
      "execution_count": null,
      "outputs": []
    },
    {
      "cell_type": "markdown",
      "metadata": {
        "id": "lJhWy1HzsEos"
      },
      "source": [
        "# Train the agents sequentially"
      ]
    },
    {
      "cell_type": "code",
      "metadata": {
        "id": "GVzDYLIWsDrw"
      },
      "source": [
        "import logging\n",
        "import sys\n",
        "logging.basicConfig(level=logging.INFO, stream=sys.stdout, format='')"
      ],
      "execution_count": null,
      "outputs": []
    },
    {
      "cell_type": "markdown",
      "metadata": {
        "id": "bSjjftaRpdiy"
      },
      "source": [
        "Preload some agents if we want to do learning on past agents\n"
      ]
    },
    {
      "cell_type": "code",
      "metadata": {
        "id": "niKSwDbQ4Bza"
      },
      "source": [
        "#agent_dqn_player1.load('agent1c')\n",
        "#agent_dqn_player2.load('agent2c')"
      ],
      "execution_count": null,
      "outputs": []
    },
    {
      "cell_type": "code",
      "metadata": {
        "colab": {
          "base_uri": "https://localhost:8080/"
        },
        "id": "HyvSbQ5usTRe",
        "outputId": "0e2760d9-ecd2-4231-ba66-3c624bf531f1"
      },
      "source": [
        "n_episodes = 100000\n",
        "individual_agent_train = 500\n",
        "\n",
        "agent_players = [agent_dqn_player1, agent_dqn_player2]\n",
        "player_pieces = [1 , -1]\n",
        "\n",
        "# Play against the random agent sometimes\n",
        "random_agent_cycle = 50\n",
        "\n",
        "train_agent_ep  = 0\n",
        "train_agent_index = 0\n",
        "\n",
        "\n",
        "for i in range(1, n_episodes + 1):\n",
        "    \n",
        "    if i%1000<=random_agent_cycle:\n",
        "      random_opponent = True\n",
        "    else:\n",
        "      random_opponent = False\n",
        "\n",
        "    if train_agent_ep >= individual_agent_train:\n",
        "      train_agent_ep = 0\n",
        "      train_agent_index = 1- train_agent_index\n",
        "\n",
        "    obs = env.reset()\n",
        "    reward = 0\n",
        "    done = False\n",
        "    player = 0\n",
        "\n",
        "    while not done:\n",
        "      if train_agent_index == player:  \n",
        "        action = agent_players[player].act_and_train(obs, reward)\n",
        "        obs, reward, done, _ = env.step((player_pieces[player], action))\n",
        "\n",
        "      else:\n",
        "\n",
        "        if not random_opponent:\n",
        "          action = agent_players[player].act(obs)\n",
        "        else:\n",
        "          valid_moves = [move for move in range(env.grid_size) if env.board.valid_move(move)]\n",
        "          action = sample(valid_moves,1)[0] \n",
        "\n",
        "        obs, reward, done, _ = env.step((player_pieces[player], action))\n",
        "        reward = - reward\n",
        "\n",
        "      player = 1- player\n",
        "\n",
        "    agent_players[train_agent_index].stop_episode_and_train(obs, reward, done)\n",
        "    train_agent_ep+=1\n",
        "\n",
        "    if i%1000==0:\n",
        "      print('Finished episode ' + str(i))\n",
        "\n",
        "print('Finished.')"
      ],
      "execution_count": null,
      "outputs": [
        {
          "output_type": "stream",
          "text": [
            "Finished episode 1000\n",
            "Finished episode 2000\n",
            "Finished episode 3000\n",
            "Finished episode 4000\n",
            "Finished episode 5000\n",
            "Finished episode 6000\n",
            "Finished episode 7000\n",
            "Finished episode 8000\n",
            "Finished episode 9000\n",
            "Finished episode 10000\n",
            "Finished episode 11000\n",
            "Finished episode 12000\n",
            "Finished episode 13000\n",
            "Finished episode 14000\n",
            "Finished episode 15000\n",
            "Finished episode 16000\n",
            "Finished episode 17000\n",
            "Finished episode 18000\n",
            "Finished episode 19000\n",
            "Finished episode 20000\n",
            "Finished episode 21000\n",
            "Finished episode 22000\n",
            "Finished episode 23000\n",
            "Finished episode 24000\n",
            "Finished episode 25000\n",
            "Finished episode 26000\n",
            "Finished episode 27000\n",
            "Finished episode 28000\n",
            "Finished episode 29000\n",
            "Finished episode 30000\n",
            "Finished episode 31000\n",
            "Finished episode 32000\n",
            "Finished episode 33000\n",
            "Finished episode 34000\n",
            "Finished episode 35000\n",
            "Finished episode 36000\n",
            "Finished episode 37000\n",
            "Finished episode 38000\n",
            "Finished episode 39000\n",
            "Finished episode 40000\n",
            "Finished episode 41000\n",
            "Finished episode 42000\n",
            "Finished episode 43000\n",
            "Finished episode 44000\n",
            "Finished episode 45000\n",
            "Finished episode 46000\n",
            "Finished episode 47000\n",
            "Finished episode 48000\n",
            "Finished episode 49000\n",
            "Finished episode 50000\n",
            "Finished episode 51000\n",
            "Finished episode 52000\n",
            "Finished episode 53000\n",
            "Finished episode 54000\n",
            "Finished episode 55000\n",
            "Finished episode 56000\n",
            "Finished episode 57000\n",
            "Finished episode 58000\n",
            "Finished episode 59000\n",
            "Finished episode 60000\n",
            "Finished episode 61000\n",
            "Finished episode 62000\n",
            "Finished episode 63000\n",
            "Finished episode 64000\n",
            "Finished episode 65000\n",
            "Finished episode 66000\n",
            "Finished episode 67000\n",
            "Finished episode 68000\n",
            "Finished episode 69000\n",
            "Finished episode 70000\n",
            "Finished episode 71000\n",
            "Finished episode 72000\n",
            "Finished episode 73000\n",
            "Finished episode 74000\n",
            "Finished episode 75000\n",
            "Finished episode 76000\n",
            "Finished episode 77000\n",
            "Finished episode 78000\n",
            "Finished episode 79000\n",
            "Finished episode 80000\n",
            "Finished episode 81000\n",
            "Finished episode 82000\n",
            "Finished episode 83000\n",
            "Finished episode 84000\n",
            "Finished episode 85000\n",
            "Finished episode 86000\n",
            "Finished episode 87000\n",
            "Finished episode 88000\n",
            "Finished episode 89000\n",
            "Finished episode 90000\n",
            "Finished episode 91000\n",
            "Finished episode 92000\n",
            "Finished episode 93000\n",
            "Finished episode 94000\n",
            "Finished episode 95000\n",
            "Finished episode 96000\n",
            "Finished episode 97000\n",
            "Finished episode 98000\n",
            "Finished episode 99000\n",
            "Finished episode 100000\n",
            "Finished.\n"
          ],
          "name": "stdout"
        }
      ]
    },
    {
      "cell_type": "markdown",
      "metadata": {
        "id": "cUAf8vzX1djo"
      },
      "source": [
        "# Saving and loading agents"
      ]
    },
    {
      "cell_type": "markdown",
      "metadata": {
        "id": "9ehIZCfp1k-_"
      },
      "source": [
        "## Saving"
      ]
    },
    {
      "cell_type": "code",
      "metadata": {
        "id": "MNFBoftN1gNK"
      },
      "source": [
        "# Save an agent to the 'agent' directory\n",
        "agent_dqn_player1.save('agent1d')\n",
        "agent_dqn_player2.save('agent2d')"
      ],
      "execution_count": null,
      "outputs": []
    },
    {
      "cell_type": "markdown",
      "metadata": {
        "id": "G8Rxni9U1l8c"
      },
      "source": [
        "## Loading"
      ]
    },
    {
      "cell_type": "markdown",
      "metadata": {
        "id": "un7oLFVlpn-5"
      },
      "source": [
        ""
      ]
    },
    {
      "cell_type": "code",
      "metadata": {
        "id": "Bf-GqIEhTFtR"
      },
      "source": [
        "agent_dqn_player1.load('agent1d')\n",
        "agent_dqn_player2.load('agent2d')"
      ],
      "execution_count": null,
      "outputs": []
    },
    {
      "cell_type": "markdown",
      "metadata": {
        "id": "It-XruYr2rzl"
      },
      "source": [
        "# Testing the agents on a game"
      ]
    },
    {
      "cell_type": "code",
      "metadata": {
        "id": "OT74DWYn2uH-"
      },
      "source": [
        "SmartBot1 = TrainedComputer('SmartBot1', 'X', agent_dqn_player1)\n",
        "SmartBot2 = TrainedComputer('SmartBot2', 'O', agent_dqn_player2)\n",
        "RandomBot1 = RandomComputer('RandBot1', 'X')\n",
        "RandomBot2 = RandomComputer('RandBot2', 'O')"
      ],
      "execution_count": null,
      "outputs": []
    },
    {
      "cell_type": "code",
      "metadata": {
        "colab": {
          "base_uri": "https://localhost:8080/"
        },
        "id": "fUmOY6q12yXE",
        "outputId": "7da45577-a231-4333-d4a5-28b15b4aa9ff"
      },
      "source": [
        "game_real=Game(show_game=True)\n",
        "game_real.add_player(SmartBot1)\n",
        "game_real.add_player(SmartBot2)\n",
        "game_real.play_game()"
      ],
      "execution_count": null,
      "outputs": [
        {
          "output_type": "stream",
          "text": [
            "Let's introduce our players: \n",
            "Player SmartBot1, playing with the X markers\n",
            "Player SmartBot2, playing with the O markers\n",
            "We will be playing with the standard grid as shown:\n",
            "|.|.|.|.|.|.|.|.|\n",
            "|.|.|.|.|.|.|.|.|\n",
            "|.|.|.|.|.|.|.|.|\n",
            "|.|.|.|.|.|.|.|.|\n",
            "|.|.|.|.|.|.|.|.|\n",
            "|.|.|.|.|.|.|.|.|\n",
            "|.|.|.|.|.|.|.|.|\n",
            "|.|.|.|.|.|.|.|.|\n",
            " 1 2 3 4 5 6 7 8\n",
            "\n",
            "\n",
            "|.|.|.|.|.|.|.|.|\n",
            "|.|.|.|.|.|.|.|.|\n",
            "|.|.|.|.|.|.|.|.|\n",
            "|.|.|.|.|.|.|.|.|\n",
            "|.|.|.|.|.|.|.|.|\n",
            "|.|.|.|.|.|.|.|.|\n",
            "|.|.|.|.|.|.|.|.|\n",
            "|\u001b[34mX\u001b[0m|.|.|.|.|.|.|.|\n",
            " 1 2 3 4 5 6 7 8\n",
            "\n",
            "\n",
            "|.|.|.|.|.|.|.|.|\n",
            "|.|.|.|.|.|.|.|.|\n",
            "|.|.|.|.|.|.|.|.|\n",
            "|.|.|.|.|.|.|.|.|\n",
            "|.|.|.|.|.|.|.|.|\n",
            "|.|.|.|.|.|.|.|.|\n",
            "|.|.|.|.|.|.|.|.|\n",
            "|\u001b[34mX\u001b[0m|.|.|.|\u001b[35mO\u001b[0m|.|.|.|\n",
            " 1 2 3 4 5 6 7 8\n",
            "\n",
            "\n",
            "|.|.|.|.|.|.|.|.|\n",
            "|.|.|.|.|.|.|.|.|\n",
            "|.|.|.|.|.|.|.|.|\n",
            "|.|.|.|.|.|.|.|.|\n",
            "|.|.|.|.|.|.|.|.|\n",
            "|.|.|.|.|.|.|.|.|\n",
            "|.|.|.|.|.|.|.|.|\n",
            "|\u001b[34mX\u001b[0m|\u001b[34mX\u001b[0m|.|.|\u001b[35mO\u001b[0m|.|.|.|\n",
            " 1 2 3 4 5 6 7 8\n",
            "\n",
            "\n",
            "|.|.|.|.|.|.|.|.|\n",
            "|.|.|.|.|.|.|.|.|\n",
            "|.|.|.|.|.|.|.|.|\n",
            "|.|.|.|.|.|.|.|.|\n",
            "|.|.|.|.|.|.|.|.|\n",
            "|.|.|.|.|.|.|.|.|\n",
            "|.|.|.|.|.|.|.|.|\n",
            "|\u001b[34mX\u001b[0m|\u001b[34mX\u001b[0m|.|.|\u001b[35mO\u001b[0m|\u001b[35mO\u001b[0m|.|.|\n",
            " 1 2 3 4 5 6 7 8\n",
            "\n",
            "\n",
            "|.|.|.|.|.|.|.|.|\n",
            "|.|.|.|.|.|.|.|.|\n",
            "|.|.|.|.|.|.|.|.|\n",
            "|.|.|.|.|.|.|.|.|\n",
            "|.|.|.|.|.|.|.|.|\n",
            "|.|.|.|.|.|.|.|.|\n",
            "|.|\u001b[34mX\u001b[0m|.|.|.|.|.|.|\n",
            "|\u001b[34mX\u001b[0m|\u001b[34mX\u001b[0m|.|.|\u001b[35mO\u001b[0m|\u001b[35mO\u001b[0m|.|.|\n",
            " 1 2 3 4 5 6 7 8\n",
            "\n",
            "\n",
            "|.|.|.|.|.|.|.|.|\n",
            "|.|.|.|.|.|.|.|.|\n",
            "|.|.|.|.|.|.|.|.|\n",
            "|.|.|.|.|.|.|.|.|\n",
            "|.|.|.|.|.|.|.|.|\n",
            "|.|.|.|.|.|.|.|.|\n",
            "|.|\u001b[34mX\u001b[0m|.|.|.|\u001b[35mO\u001b[0m|.|.|\n",
            "|\u001b[34mX\u001b[0m|\u001b[34mX\u001b[0m|.|.|\u001b[35mO\u001b[0m|\u001b[35mO\u001b[0m|.|.|\n",
            " 1 2 3 4 5 6 7 8\n",
            "\n",
            "\n",
            "|.|.|.|.|.|.|.|.|\n",
            "|.|.|.|.|.|.|.|.|\n",
            "|.|.|.|.|.|.|.|.|\n",
            "|.|.|.|.|.|.|.|.|\n",
            "|.|.|.|.|.|.|.|.|\n",
            "|.|\u001b[34mX\u001b[0m|.|.|.|.|.|.|\n",
            "|.|\u001b[34mX\u001b[0m|.|.|.|\u001b[35mO\u001b[0m|.|.|\n",
            "|\u001b[34mX\u001b[0m|\u001b[34mX\u001b[0m|.|.|\u001b[35mO\u001b[0m|\u001b[35mO\u001b[0m|.|.|\n",
            " 1 2 3 4 5 6 7 8\n",
            "\n",
            "\n",
            "|.|.|.|.|.|.|.|.|\n",
            "|.|.|.|.|.|.|.|.|\n",
            "|.|.|.|.|.|.|.|.|\n",
            "|.|.|.|.|.|.|.|.|\n",
            "|.|\u001b[35mO\u001b[0m|.|.|.|.|.|.|\n",
            "|.|\u001b[34mX\u001b[0m|.|.|.|.|.|.|\n",
            "|.|\u001b[34mX\u001b[0m|.|.|.|\u001b[35mO\u001b[0m|.|.|\n",
            "|\u001b[34mX\u001b[0m|\u001b[34mX\u001b[0m|.|.|\u001b[35mO\u001b[0m|\u001b[35mO\u001b[0m|.|.|\n",
            " 1 2 3 4 5 6 7 8\n",
            "\n",
            "\n",
            "|.|.|.|.|.|.|.|.|\n",
            "|.|.|.|.|.|.|.|.|\n",
            "|.|.|.|.|.|.|.|.|\n",
            "|.|\u001b[34mX\u001b[0m|.|.|.|.|.|.|\n",
            "|.|\u001b[35mO\u001b[0m|.|.|.|.|.|.|\n",
            "|.|\u001b[34mX\u001b[0m|.|.|.|.|.|.|\n",
            "|.|\u001b[34mX\u001b[0m|.|.|.|\u001b[35mO\u001b[0m|.|.|\n",
            "|\u001b[34mX\u001b[0m|\u001b[34mX\u001b[0m|.|.|\u001b[35mO\u001b[0m|\u001b[35mO\u001b[0m|.|.|\n",
            " 1 2 3 4 5 6 7 8\n",
            "\n",
            "\n",
            "|.|.|.|.|.|.|.|.|\n",
            "|.|.|.|.|.|.|.|.|\n",
            "|.|.|.|.|.|.|.|.|\n",
            "|.|\u001b[34mX\u001b[0m|.|.|.|.|.|.|\n",
            "|.|\u001b[35mO\u001b[0m|.|.|.|.|.|.|\n",
            "|.|\u001b[34mX\u001b[0m|.|.|.|\u001b[35mO\u001b[0m|.|.|\n",
            "|.|\u001b[34mX\u001b[0m|.|.|.|\u001b[35mO\u001b[0m|.|.|\n",
            "|\u001b[34mX\u001b[0m|\u001b[34mX\u001b[0m|.|.|\u001b[35mO\u001b[0m|\u001b[35mO\u001b[0m|.|.|\n",
            " 1 2 3 4 5 6 7 8\n",
            "\n",
            "\n",
            "|.|.|.|.|.|.|.|.|\n",
            "|.|.|.|.|.|.|.|.|\n",
            "|.|.|.|.|.|.|.|.|\n",
            "|.|\u001b[34mX\u001b[0m|.|.|.|.|.|.|\n",
            "|.|\u001b[35mO\u001b[0m|.|.|.|\u001b[34mX\u001b[0m|.|.|\n",
            "|.|\u001b[34mX\u001b[0m|.|.|.|\u001b[35mO\u001b[0m|.|.|\n",
            "|.|\u001b[34mX\u001b[0m|.|.|.|\u001b[35mO\u001b[0m|.|.|\n",
            "|\u001b[34mX\u001b[0m|\u001b[34mX\u001b[0m|.|.|\u001b[35mO\u001b[0m|\u001b[35mO\u001b[0m|.|.|\n",
            " 1 2 3 4 5 6 7 8\n",
            "\n",
            "\n",
            "|.|.|.|.|.|.|.|.|\n",
            "|.|.|.|.|.|.|.|.|\n",
            "|.|.|.|.|.|.|.|.|\n",
            "|.|\u001b[34mX\u001b[0m|.|.|.|\u001b[35mO\u001b[0m|.|.|\n",
            "|.|\u001b[35mO\u001b[0m|.|.|.|\u001b[34mX\u001b[0m|.|.|\n",
            "|.|\u001b[34mX\u001b[0m|.|.|.|\u001b[35mO\u001b[0m|.|.|\n",
            "|.|\u001b[34mX\u001b[0m|.|.|.|\u001b[35mO\u001b[0m|.|.|\n",
            "|\u001b[34mX\u001b[0m|\u001b[34mX\u001b[0m|.|.|\u001b[35mO\u001b[0m|\u001b[35mO\u001b[0m|.|.|\n",
            " 1 2 3 4 5 6 7 8\n",
            "\n",
            "\n",
            "|.|.|.|.|.|.|.|.|\n",
            "|.|.|.|.|.|.|.|.|\n",
            "|.|\u001b[34mX\u001b[0m|.|.|.|.|.|.|\n",
            "|.|\u001b[34mX\u001b[0m|.|.|.|\u001b[35mO\u001b[0m|.|.|\n",
            "|.|\u001b[35mO\u001b[0m|.|.|.|\u001b[34mX\u001b[0m|.|.|\n",
            "|.|\u001b[34mX\u001b[0m|.|.|.|\u001b[35mO\u001b[0m|.|.|\n",
            "|.|\u001b[34mX\u001b[0m|.|.|.|\u001b[35mO\u001b[0m|.|.|\n",
            "|\u001b[34mX\u001b[0m|\u001b[34mX\u001b[0m|.|.|\u001b[35mO\u001b[0m|\u001b[35mO\u001b[0m|.|.|\n",
            " 1 2 3 4 5 6 7 8\n",
            "\n",
            "\n",
            "|.|.|.|.|.|.|.|.|\n",
            "|.|.|.|.|.|.|.|.|\n",
            "|.|\u001b[34mX\u001b[0m|.|.|.|\u001b[35mO\u001b[0m|.|.|\n",
            "|.|\u001b[34mX\u001b[0m|.|.|.|\u001b[35mO\u001b[0m|.|.|\n",
            "|.|\u001b[35mO\u001b[0m|.|.|.|\u001b[34mX\u001b[0m|.|.|\n",
            "|.|\u001b[34mX\u001b[0m|.|.|.|\u001b[35mO\u001b[0m|.|.|\n",
            "|.|\u001b[34mX\u001b[0m|.|.|.|\u001b[35mO\u001b[0m|.|.|\n",
            "|\u001b[34mX\u001b[0m|\u001b[34mX\u001b[0m|.|.|\u001b[35mO\u001b[0m|\u001b[35mO\u001b[0m|.|.|\n",
            " 1 2 3 4 5 6 7 8\n",
            "\n",
            "\n",
            "|.|.|.|.|.|.|.|.|\n",
            "|.|\u001b[34mX\u001b[0m|.|.|.|.|.|.|\n",
            "|.|\u001b[34mX\u001b[0m|.|.|.|\u001b[35mO\u001b[0m|.|.|\n",
            "|.|\u001b[34mX\u001b[0m|.|.|.|\u001b[35mO\u001b[0m|.|.|\n",
            "|.|\u001b[35mO\u001b[0m|.|.|.|\u001b[34mX\u001b[0m|.|.|\n",
            "|.|\u001b[34mX\u001b[0m|.|.|.|\u001b[35mO\u001b[0m|.|.|\n",
            "|.|\u001b[34mX\u001b[0m|.|.|.|\u001b[35mO\u001b[0m|.|.|\n",
            "|\u001b[34mX\u001b[0m|\u001b[34mX\u001b[0m|.|.|\u001b[35mO\u001b[0m|\u001b[35mO\u001b[0m|.|.|\n",
            " 1 2 3 4 5 6 7 8\n",
            "\n",
            "\n",
            "|.|\u001b[35mO\u001b[0m|.|.|.|.|.|.|\n",
            "|.|\u001b[34mX\u001b[0m|.|.|.|.|.|.|\n",
            "|.|\u001b[34mX\u001b[0m|.|.|.|\u001b[35mO\u001b[0m|.|.|\n",
            "|.|\u001b[34mX\u001b[0m|.|.|.|\u001b[35mO\u001b[0m|.|.|\n",
            "|.|\u001b[35mO\u001b[0m|.|.|.|\u001b[34mX\u001b[0m|.|.|\n",
            "|.|\u001b[34mX\u001b[0m|.|.|.|\u001b[35mO\u001b[0m|.|.|\n",
            "|.|\u001b[34mX\u001b[0m|.|.|.|\u001b[35mO\u001b[0m|.|.|\n",
            "|\u001b[34mX\u001b[0m|\u001b[34mX\u001b[0m|.|.|\u001b[35mO\u001b[0m|\u001b[35mO\u001b[0m|.|.|\n",
            " 1 2 3 4 5 6 7 8\n",
            "\n",
            "\n",
            "|.|\u001b[35mO\u001b[0m|.|.|.|.|.|.|\n",
            "|.|\u001b[34mX\u001b[0m|.|.|.|.|.|.|\n",
            "|.|\u001b[34mX\u001b[0m|.|.|.|\u001b[35mO\u001b[0m|.|.|\n",
            "|.|\u001b[34mX\u001b[0m|.|.|.|\u001b[35mO\u001b[0m|.|.|\n",
            "|.|\u001b[35mO\u001b[0m|.|.|.|\u001b[34mX\u001b[0m|.|.|\n",
            "|.|\u001b[34mX\u001b[0m|.|.|.|\u001b[35mO\u001b[0m|.|.|\n",
            "|.|\u001b[34mX\u001b[0m|.|.|.|\u001b[35mO\u001b[0m|.|.|\n",
            "|\u001b[34mX\u001b[0m|\u001b[34mX\u001b[0m|.|.|\u001b[35mO\u001b[0m|\u001b[35mO\u001b[0m|.|\u001b[34mX\u001b[0m|\n",
            " 1 2 3 4 5 6 7 8\n",
            "\n",
            "\n",
            "|.|\u001b[35mO\u001b[0m|.|.|.|.|.|.|\n",
            "|.|\u001b[34mX\u001b[0m|.|.|.|\u001b[35mO\u001b[0m|.|.|\n",
            "|.|\u001b[34mX\u001b[0m|.|.|.|\u001b[35mO\u001b[0m|.|.|\n",
            "|.|\u001b[34mX\u001b[0m|.|.|.|\u001b[35mO\u001b[0m|.|.|\n",
            "|.|\u001b[35mO\u001b[0m|.|.|.|\u001b[34mX\u001b[0m|.|.|\n",
            "|.|\u001b[34mX\u001b[0m|.|.|.|\u001b[35mO\u001b[0m|.|.|\n",
            "|.|\u001b[34mX\u001b[0m|.|.|.|\u001b[35mO\u001b[0m|.|.|\n",
            "|\u001b[34mX\u001b[0m|\u001b[34mX\u001b[0m|.|.|\u001b[35mO\u001b[0m|\u001b[35mO\u001b[0m|.|\u001b[34mX\u001b[0m|\n",
            " 1 2 3 4 5 6 7 8\n",
            "\n",
            "\n",
            "|.|\u001b[35mO\u001b[0m|.|.|.|\u001b[34mX\u001b[0m|.|.|\n",
            "|.|\u001b[34mX\u001b[0m|.|.|.|\u001b[35mO\u001b[0m|.|.|\n",
            "|.|\u001b[34mX\u001b[0m|.|.|.|\u001b[35mO\u001b[0m|.|.|\n",
            "|.|\u001b[34mX\u001b[0m|.|.|.|\u001b[35mO\u001b[0m|.|.|\n",
            "|.|\u001b[35mO\u001b[0m|.|.|.|\u001b[34mX\u001b[0m|.|.|\n",
            "|.|\u001b[34mX\u001b[0m|.|.|.|\u001b[35mO\u001b[0m|.|.|\n",
            "|.|\u001b[34mX\u001b[0m|.|.|.|\u001b[35mO\u001b[0m|.|.|\n",
            "|\u001b[34mX\u001b[0m|\u001b[34mX\u001b[0m|.|.|\u001b[35mO\u001b[0m|\u001b[35mO\u001b[0m|.|\u001b[34mX\u001b[0m|\n",
            " 1 2 3 4 5 6 7 8\n",
            "\n",
            "\n",
            "|.|\u001b[35mO\u001b[0m|.|.|.|\u001b[34mX\u001b[0m|.|.|\n",
            "|.|\u001b[34mX\u001b[0m|.|.|.|\u001b[35mO\u001b[0m|.|.|\n",
            "|.|\u001b[34mX\u001b[0m|.|.|.|\u001b[35mO\u001b[0m|.|.|\n",
            "|.|\u001b[34mX\u001b[0m|.|.|.|\u001b[35mO\u001b[0m|.|.|\n",
            "|.|\u001b[35mO\u001b[0m|.|.|.|\u001b[34mX\u001b[0m|.|.|\n",
            "|.|\u001b[34mX\u001b[0m|.|.|.|\u001b[35mO\u001b[0m|.|.|\n",
            "|.|\u001b[34mX\u001b[0m|.|.|.|\u001b[35mO\u001b[0m|.|\u001b[35mO\u001b[0m|\n",
            "|\u001b[34mX\u001b[0m|\u001b[34mX\u001b[0m|.|.|\u001b[35mO\u001b[0m|\u001b[35mO\u001b[0m|.|\u001b[34mX\u001b[0m|\n",
            " 1 2 3 4 5 6 7 8\n",
            "\n",
            "\n",
            "|.|\u001b[35mO\u001b[0m|.|.|.|\u001b[34mX\u001b[0m|.|.|\n",
            "|.|\u001b[34mX\u001b[0m|.|.|.|\u001b[35mO\u001b[0m|.|.|\n",
            "|.|\u001b[34mX\u001b[0m|.|.|.|\u001b[35mO\u001b[0m|.|.|\n",
            "|.|\u001b[34mX\u001b[0m|.|.|.|\u001b[35mO\u001b[0m|.|.|\n",
            "|.|\u001b[35mO\u001b[0m|.|.|.|\u001b[34mX\u001b[0m|.|.|\n",
            "|.|\u001b[34mX\u001b[0m|.|.|.|\u001b[35mO\u001b[0m|.|\u001b[34mX\u001b[0m|\n",
            "|.|\u001b[34mX\u001b[0m|.|.|.|\u001b[35mO\u001b[0m|.|\u001b[35mO\u001b[0m|\n",
            "|\u001b[34mX\u001b[0m|\u001b[34mX\u001b[0m|.|.|\u001b[35mO\u001b[0m|\u001b[35mO\u001b[0m|.|\u001b[34mX\u001b[0m|\n",
            " 1 2 3 4 5 6 7 8\n",
            "\n",
            "\n",
            "|.|\u001b[35mO\u001b[0m|.|.|.|\u001b[34mX\u001b[0m|.|.|\n",
            "|.|\u001b[34mX\u001b[0m|.|.|.|\u001b[35mO\u001b[0m|.|.|\n",
            "|.|\u001b[34mX\u001b[0m|.|.|.|\u001b[35mO\u001b[0m|.|.|\n",
            "|.|\u001b[34mX\u001b[0m|.|.|.|\u001b[35mO\u001b[0m|.|.|\n",
            "|.|\u001b[35mO\u001b[0m|.|.|.|\u001b[34mX\u001b[0m|.|\u001b[35mO\u001b[0m|\n",
            "|.|\u001b[34mX\u001b[0m|.|.|.|\u001b[35mO\u001b[0m|.|\u001b[34mX\u001b[0m|\n",
            "|.|\u001b[34mX\u001b[0m|.|.|.|\u001b[35mO\u001b[0m|.|\u001b[35mO\u001b[0m|\n",
            "|\u001b[34mX\u001b[0m|\u001b[34mX\u001b[0m|.|.|\u001b[35mO\u001b[0m|\u001b[35mO\u001b[0m|.|\u001b[34mX\u001b[0m|\n",
            " 1 2 3 4 5 6 7 8\n",
            "\n",
            "\n",
            "|.|\u001b[35mO\u001b[0m|.|.|.|\u001b[34mX\u001b[0m|.|.|\n",
            "|.|\u001b[34mX\u001b[0m|.|.|.|\u001b[35mO\u001b[0m|.|.|\n",
            "|.|\u001b[34mX\u001b[0m|.|.|.|\u001b[35mO\u001b[0m|.|.|\n",
            "|.|\u001b[34mX\u001b[0m|.|.|.|\u001b[35mO\u001b[0m|.|\u001b[34mX\u001b[0m|\n",
            "|.|\u001b[35mO\u001b[0m|.|.|.|\u001b[34mX\u001b[0m|.|\u001b[35mO\u001b[0m|\n",
            "|.|\u001b[34mX\u001b[0m|.|.|.|\u001b[35mO\u001b[0m|.|\u001b[34mX\u001b[0m|\n",
            "|.|\u001b[34mX\u001b[0m|.|.|.|\u001b[35mO\u001b[0m|.|\u001b[35mO\u001b[0m|\n",
            "|\u001b[34mX\u001b[0m|\u001b[34mX\u001b[0m|.|.|\u001b[35mO\u001b[0m|\u001b[35mO\u001b[0m|.|\u001b[34mX\u001b[0m|\n",
            " 1 2 3 4 5 6 7 8\n",
            "\n",
            "\n",
            "|.|\u001b[35mO\u001b[0m|.|.|.|\u001b[34mX\u001b[0m|.|.|\n",
            "|.|\u001b[34mX\u001b[0m|.|.|.|\u001b[35mO\u001b[0m|.|.|\n",
            "|.|\u001b[34mX\u001b[0m|.|.|.|\u001b[35mO\u001b[0m|.|\u001b[35mO\u001b[0m|\n",
            "|.|\u001b[34mX\u001b[0m|.|.|.|\u001b[35mO\u001b[0m|.|\u001b[34mX\u001b[0m|\n",
            "|.|\u001b[35mO\u001b[0m|.|.|.|\u001b[34mX\u001b[0m|.|\u001b[35mO\u001b[0m|\n",
            "|.|\u001b[34mX\u001b[0m|.|.|.|\u001b[35mO\u001b[0m|.|\u001b[34mX\u001b[0m|\n",
            "|.|\u001b[34mX\u001b[0m|.|.|.|\u001b[35mO\u001b[0m|.|\u001b[35mO\u001b[0m|\n",
            "|\u001b[34mX\u001b[0m|\u001b[34mX\u001b[0m|.|.|\u001b[35mO\u001b[0m|\u001b[35mO\u001b[0m|.|\u001b[34mX\u001b[0m|\n",
            " 1 2 3 4 5 6 7 8\n",
            "\n",
            "\n",
            "|.|\u001b[35mO\u001b[0m|.|.|.|\u001b[34mX\u001b[0m|.|.|\n",
            "|.|\u001b[34mX\u001b[0m|.|.|.|\u001b[35mO\u001b[0m|.|.|\n",
            "|.|\u001b[34mX\u001b[0m|.|.|.|\u001b[35mO\u001b[0m|.|\u001b[35mO\u001b[0m|\n",
            "|.|\u001b[34mX\u001b[0m|.|.|.|\u001b[35mO\u001b[0m|.|\u001b[34mX\u001b[0m|\n",
            "|.|\u001b[35mO\u001b[0m|.|.|.|\u001b[34mX\u001b[0m|.|\u001b[35mO\u001b[0m|\n",
            "|.|\u001b[34mX\u001b[0m|.|.|.|\u001b[35mO\u001b[0m|.|\u001b[34mX\u001b[0m|\n",
            "|\u001b[34mX\u001b[0m|\u001b[34mX\u001b[0m|.|.|.|\u001b[35mO\u001b[0m|.|\u001b[35mO\u001b[0m|\n",
            "|\u001b[34mX\u001b[0m|\u001b[34mX\u001b[0m|.|.|\u001b[35mO\u001b[0m|\u001b[35mO\u001b[0m|.|\u001b[34mX\u001b[0m|\n",
            " 1 2 3 4 5 6 7 8\n",
            "\n",
            "\n",
            "|.|\u001b[35mO\u001b[0m|.|.|.|\u001b[34mX\u001b[0m|.|.|\n",
            "|.|\u001b[34mX\u001b[0m|.|.|.|\u001b[35mO\u001b[0m|.|\u001b[35mO\u001b[0m|\n",
            "|.|\u001b[34mX\u001b[0m|.|.|.|\u001b[35mO\u001b[0m|.|\u001b[35mO\u001b[0m|\n",
            "|.|\u001b[34mX\u001b[0m|.|.|.|\u001b[35mO\u001b[0m|.|\u001b[34mX\u001b[0m|\n",
            "|.|\u001b[35mO\u001b[0m|.|.|.|\u001b[34mX\u001b[0m|.|\u001b[35mO\u001b[0m|\n",
            "|.|\u001b[34mX\u001b[0m|.|.|.|\u001b[35mO\u001b[0m|.|\u001b[34mX\u001b[0m|\n",
            "|\u001b[34mX\u001b[0m|\u001b[34mX\u001b[0m|.|.|.|\u001b[35mO\u001b[0m|.|\u001b[35mO\u001b[0m|\n",
            "|\u001b[34mX\u001b[0m|\u001b[34mX\u001b[0m|.|.|\u001b[35mO\u001b[0m|\u001b[35mO\u001b[0m|.|\u001b[34mX\u001b[0m|\n",
            " 1 2 3 4 5 6 7 8\n",
            "\n",
            "\n",
            "|.|\u001b[35mO\u001b[0m|.|.|.|\u001b[34mX\u001b[0m|.|.|\n",
            "|.|\u001b[34mX\u001b[0m|.|.|.|\u001b[35mO\u001b[0m|.|\u001b[35mO\u001b[0m|\n",
            "|.|\u001b[34mX\u001b[0m|.|.|.|\u001b[35mO\u001b[0m|.|\u001b[35mO\u001b[0m|\n",
            "|.|\u001b[34mX\u001b[0m|.|.|.|\u001b[35mO\u001b[0m|.|\u001b[34mX\u001b[0m|\n",
            "|.|\u001b[35mO\u001b[0m|.|.|.|\u001b[34mX\u001b[0m|.|\u001b[35mO\u001b[0m|\n",
            "|\u001b[34mX\u001b[0m|\u001b[34mX\u001b[0m|.|.|.|\u001b[35mO\u001b[0m|.|\u001b[34mX\u001b[0m|\n",
            "|\u001b[34mX\u001b[0m|\u001b[34mX\u001b[0m|.|.|.|\u001b[35mO\u001b[0m|.|\u001b[35mO\u001b[0m|\n",
            "|\u001b[34mX\u001b[0m|\u001b[34mX\u001b[0m|.|.|\u001b[35mO\u001b[0m|\u001b[35mO\u001b[0m|.|\u001b[34mX\u001b[0m|\n",
            " 1 2 3 4 5 6 7 8\n",
            "\n",
            "\n",
            "|.|\u001b[35mO\u001b[0m|.|.|.|\u001b[34mX\u001b[0m|.|\u001b[35mO\u001b[0m|\n",
            "|.|\u001b[34mX\u001b[0m|.|.|.|\u001b[35mO\u001b[0m|.|\u001b[35mO\u001b[0m|\n",
            "|.|\u001b[34mX\u001b[0m|.|.|.|\u001b[35mO\u001b[0m|.|\u001b[35mO\u001b[0m|\n",
            "|.|\u001b[34mX\u001b[0m|.|.|.|\u001b[35mO\u001b[0m|.|\u001b[34mX\u001b[0m|\n",
            "|.|\u001b[35mO\u001b[0m|.|.|.|\u001b[34mX\u001b[0m|.|\u001b[35mO\u001b[0m|\n",
            "|\u001b[34mX\u001b[0m|\u001b[34mX\u001b[0m|.|.|.|\u001b[35mO\u001b[0m|.|\u001b[34mX\u001b[0m|\n",
            "|\u001b[34mX\u001b[0m|\u001b[34mX\u001b[0m|.|.|.|\u001b[35mO\u001b[0m|.|\u001b[35mO\u001b[0m|\n",
            "|\u001b[34mX\u001b[0m|\u001b[34mX\u001b[0m|.|.|\u001b[35mO\u001b[0m|\u001b[35mO\u001b[0m|.|\u001b[34mX\u001b[0m|\n",
            " 1 2 3 4 5 6 7 8\n",
            "\n",
            "\n",
            "|.|\u001b[35mO\u001b[0m|.|.|.|\u001b[34mX\u001b[0m|.|\u001b[35mO\u001b[0m|\n",
            "|.|\u001b[34mX\u001b[0m|.|.|.|\u001b[35mO\u001b[0m|.|\u001b[35mO\u001b[0m|\n",
            "|.|\u001b[34mX\u001b[0m|.|.|.|\u001b[35mO\u001b[0m|.|\u001b[35mO\u001b[0m|\n",
            "|.|\u001b[34mX\u001b[0m|.|.|.|\u001b[35mO\u001b[0m|.|\u001b[34mX\u001b[0m|\n",
            "|\u001b[34mX\u001b[0m|\u001b[35mO\u001b[0m|.|.|.|\u001b[34mX\u001b[0m|.|\u001b[35mO\u001b[0m|\n",
            "|\u001b[34mX\u001b[0m|\u001b[34mX\u001b[0m|.|.|.|\u001b[35mO\u001b[0m|.|\u001b[34mX\u001b[0m|\n",
            "|\u001b[34mX\u001b[0m|\u001b[34mX\u001b[0m|.|.|.|\u001b[35mO\u001b[0m|.|\u001b[35mO\u001b[0m|\n",
            "|\u001b[34mX\u001b[0m|\u001b[34mX\u001b[0m|.|.|\u001b[35mO\u001b[0m|\u001b[35mO\u001b[0m|.|\u001b[34mX\u001b[0m|\n",
            " 1 2 3 4 5 6 7 8\n",
            "\n",
            "\n",
            "Victory for player SmartBot1\n"
          ],
          "name": "stdout"
        },
        {
          "output_type": "execute_result",
          "data": {
            "text/plain": [
              "2"
            ]
          },
          "metadata": {
            "tags": []
          },
          "execution_count": 56
        }
      ]
    },
    {
      "cell_type": "code",
      "metadata": {
        "colab": {
          "base_uri": "https://localhost:8080/"
        },
        "id": "xgfeUyeiD9lB",
        "outputId": "0e0d695e-1c07-4cef-d47a-b685234a99a6"
      },
      "source": [
        "results = []\n",
        "for i in range(1000):\n",
        "\n",
        "  game_real=Game(show_game=False)\n",
        "  game_real.add_player(SmartBot1)\n",
        "  game_real.add_player(RandomBot2)\n",
        "  results.append(game_real.play_game())\n",
        "\n",
        "Counter(results)"
      ],
      "execution_count": null,
      "outputs": [
        {
          "output_type": "execute_result",
          "data": {
            "text/plain": [
              "Counter({1: 893, 2: 107})"
            ]
          },
          "metadata": {
            "tags": []
          },
          "execution_count": 77
        }
      ]
    },
    {
      "cell_type": "code",
      "metadata": {
        "colab": {
          "base_uri": "https://localhost:8080/"
        },
        "id": "u7LgWQbnEgCt",
        "outputId": "52a19268-4026-47a9-b9d3-ab261e95a1b3"
      },
      "source": [
        "results = []\n",
        "for i in range(1000):\n",
        "\n",
        "  game_real=Game(show_game=False)\n",
        "  game_real.add_player(RandomBot1)\n",
        "  game_real.add_player(SmartBot2)\n",
        "  results.append(game_real.play_game())\n",
        "\n",
        "Counter(results)"
      ],
      "execution_count": null,
      "outputs": [
        {
          "output_type": "execute_result",
          "data": {
            "text/plain": [
              "Counter({1: 145, 2: 855})"
            ]
          },
          "metadata": {
            "tags": []
          },
          "execution_count": 78
        }
      ]
    },
    {
      "cell_type": "code",
      "metadata": {
        "colab": {
          "base_uri": "https://localhost:8080/"
        },
        "id": "vsKkwKm3EtBw",
        "outputId": "a5d3c369-9113-48c4-a1b9-07cefbd1c797"
      },
      "source": [
        "  game_real=Game(show_game=True)\n",
        "  game_real.add_player(Aurelien)\n",
        "  game_real.add_player(SmartBot2)\n",
        "  results.append(game_real.play_game())"
      ],
      "execution_count": null,
      "outputs": [
        {
          "output_type": "stream",
          "text": [
            "Let's introduce our players: \n",
            "Player Aurelien, playing with the O markers\n",
            "Player SmartBot2, playing with the O markers\n",
            "We will be playing with the standard grid as shown:\n",
            "|.|.|.|.|.|.|.|.|\n",
            "|.|.|.|.|.|.|.|.|\n",
            "|.|.|.|.|.|.|.|.|\n",
            "|.|.|.|.|.|.|.|.|\n",
            "|.|.|.|.|.|.|.|.|\n",
            "|.|.|.|.|.|.|.|.|\n",
            "|.|.|.|.|.|.|.|.|\n",
            "|.|.|.|.|.|.|.|.|\n",
            " 1 2 3 4 5 6 7 8\n",
            "\n",
            "\n",
            "Player Aurelien where do you want to place your piece ?4\n",
            "|.|.|.|.|.|.|.|.|\n",
            "|.|.|.|.|.|.|.|.|\n",
            "|.|.|.|.|.|.|.|.|\n",
            "|.|.|.|.|.|.|.|.|\n",
            "|.|.|.|.|.|.|.|.|\n",
            "|.|.|.|.|.|.|.|.|\n",
            "|.|.|.|.|.|.|.|.|\n",
            "|.|.|.|\u001b[34mO\u001b[0m|.|.|.|.|\n",
            " 1 2 3 4 5 6 7 8\n",
            "\n",
            "\n",
            "|.|.|.|.|.|.|.|.|\n",
            "|.|.|.|.|.|.|.|.|\n",
            "|.|.|.|.|.|.|.|.|\n",
            "|.|.|.|.|.|.|.|.|\n",
            "|.|.|.|.|.|.|.|.|\n",
            "|.|.|.|.|.|.|.|.|\n",
            "|.|.|.|.|.|.|.|.|\n",
            "|.|.|.|\u001b[34mO\u001b[0m|\u001b[35mO\u001b[0m|.|.|.|\n",
            " 1 2 3 4 5 6 7 8\n",
            "\n",
            "\n",
            "Player Aurelien where do you want to place your piece ?5\n",
            "|.|.|.|.|.|.|.|.|\n",
            "|.|.|.|.|.|.|.|.|\n",
            "|.|.|.|.|.|.|.|.|\n",
            "|.|.|.|.|.|.|.|.|\n",
            "|.|.|.|.|.|.|.|.|\n",
            "|.|.|.|.|.|.|.|.|\n",
            "|.|.|.|.|\u001b[34mO\u001b[0m|.|.|.|\n",
            "|.|.|.|\u001b[34mO\u001b[0m|\u001b[35mO\u001b[0m|.|.|.|\n",
            " 1 2 3 4 5 6 7 8\n",
            "\n",
            "\n",
            "|.|.|.|.|.|.|.|.|\n",
            "|.|.|.|.|.|.|.|.|\n",
            "|.|.|.|.|.|.|.|.|\n",
            "|.|.|.|.|.|.|.|.|\n",
            "|.|.|.|.|.|.|.|.|\n",
            "|.|.|.|.|\u001b[35mO\u001b[0m|.|.|.|\n",
            "|.|.|.|.|\u001b[34mO\u001b[0m|.|.|.|\n",
            "|.|.|.|\u001b[34mO\u001b[0m|\u001b[35mO\u001b[0m|.|.|.|\n",
            " 1 2 3 4 5 6 7 8\n",
            "\n",
            "\n",
            "Player Aurelien where do you want to place your piece ?4\n",
            "|.|.|.|.|.|.|.|.|\n",
            "|.|.|.|.|.|.|.|.|\n",
            "|.|.|.|.|.|.|.|.|\n",
            "|.|.|.|.|.|.|.|.|\n",
            "|.|.|.|.|.|.|.|.|\n",
            "|.|.|.|.|\u001b[35mO\u001b[0m|.|.|.|\n",
            "|.|.|.|\u001b[34mO\u001b[0m|\u001b[34mO\u001b[0m|.|.|.|\n",
            "|.|.|.|\u001b[34mO\u001b[0m|\u001b[35mO\u001b[0m|.|.|.|\n",
            " 1 2 3 4 5 6 7 8\n",
            "\n",
            "\n",
            "|.|.|.|.|.|.|.|.|\n",
            "|.|.|.|.|.|.|.|.|\n",
            "|.|.|.|.|.|.|.|.|\n",
            "|.|.|.|.|.|.|.|.|\n",
            "|.|.|.|.|\u001b[35mO\u001b[0m|.|.|.|\n",
            "|.|.|.|.|\u001b[35mO\u001b[0m|.|.|.|\n",
            "|.|.|.|\u001b[34mO\u001b[0m|\u001b[34mO\u001b[0m|.|.|.|\n",
            "|.|.|.|\u001b[34mO\u001b[0m|\u001b[35mO\u001b[0m|.|.|.|\n",
            " 1 2 3 4 5 6 7 8\n",
            "\n",
            "\n",
            "Player Aurelien where do you want to place your piece ?6\n",
            "|.|.|.|.|.|.|.|.|\n",
            "|.|.|.|.|.|.|.|.|\n",
            "|.|.|.|.|.|.|.|.|\n",
            "|.|.|.|.|.|.|.|.|\n",
            "|.|.|.|.|\u001b[35mO\u001b[0m|.|.|.|\n",
            "|.|.|.|.|\u001b[35mO\u001b[0m|.|.|.|\n",
            "|.|.|.|\u001b[34mO\u001b[0m|\u001b[34mO\u001b[0m|.|.|.|\n",
            "|.|.|.|\u001b[34mO\u001b[0m|\u001b[35mO\u001b[0m|\u001b[34mO\u001b[0m|.|.|\n",
            " 1 2 3 4 5 6 7 8\n",
            "\n",
            "\n",
            "|.|.|.|.|.|.|.|.|\n",
            "|.|.|.|.|.|.|.|.|\n",
            "|.|.|.|.|.|.|.|.|\n",
            "|.|.|.|.|\u001b[35mO\u001b[0m|.|.|.|\n",
            "|.|.|.|.|\u001b[35mO\u001b[0m|.|.|.|\n",
            "|.|.|.|.|\u001b[35mO\u001b[0m|.|.|.|\n",
            "|.|.|.|\u001b[34mO\u001b[0m|\u001b[34mO\u001b[0m|.|.|.|\n",
            "|.|.|.|\u001b[34mO\u001b[0m|\u001b[35mO\u001b[0m|\u001b[34mO\u001b[0m|.|.|\n",
            " 1 2 3 4 5 6 7 8\n",
            "\n",
            "\n",
            "Player Aurelien where do you want to place your piece ?5\n",
            "|.|.|.|.|.|.|.|.|\n",
            "|.|.|.|.|.|.|.|.|\n",
            "|.|.|.|.|\u001b[34mO\u001b[0m|.|.|.|\n",
            "|.|.|.|.|\u001b[35mO\u001b[0m|.|.|.|\n",
            "|.|.|.|.|\u001b[35mO\u001b[0m|.|.|.|\n",
            "|.|.|.|.|\u001b[35mO\u001b[0m|.|.|.|\n",
            "|.|.|.|\u001b[34mO\u001b[0m|\u001b[34mO\u001b[0m|.|.|.|\n",
            "|.|.|.|\u001b[34mO\u001b[0m|\u001b[35mO\u001b[0m|\u001b[34mO\u001b[0m|.|.|\n",
            " 1 2 3 4 5 6 7 8\n",
            "\n",
            "\n",
            "|.|.|.|.|.|.|.|.|\n",
            "|.|.|.|.|\u001b[35mO\u001b[0m|.|.|.|\n",
            "|.|.|.|.|\u001b[34mO\u001b[0m|.|.|.|\n",
            "|.|.|.|.|\u001b[35mO\u001b[0m|.|.|.|\n",
            "|.|.|.|.|\u001b[35mO\u001b[0m|.|.|.|\n",
            "|.|.|.|.|\u001b[35mO\u001b[0m|.|.|.|\n",
            "|.|.|.|\u001b[34mO\u001b[0m|\u001b[34mO\u001b[0m|.|.|.|\n",
            "|.|.|.|\u001b[34mO\u001b[0m|\u001b[35mO\u001b[0m|\u001b[34mO\u001b[0m|.|.|\n",
            " 1 2 3 4 5 6 7 8\n",
            "\n",
            "\n",
            "Player Aurelien where do you want to place your piece ?4\n",
            "|.|.|.|.|.|.|.|.|\n",
            "|.|.|.|.|\u001b[35mO\u001b[0m|.|.|.|\n",
            "|.|.|.|.|\u001b[34mO\u001b[0m|.|.|.|\n",
            "|.|.|.|.|\u001b[35mO\u001b[0m|.|.|.|\n",
            "|.|.|.|.|\u001b[35mO\u001b[0m|.|.|.|\n",
            "|.|.|.|\u001b[34mO\u001b[0m|\u001b[35mO\u001b[0m|.|.|.|\n",
            "|.|.|.|\u001b[34mO\u001b[0m|\u001b[34mO\u001b[0m|.|.|.|\n",
            "|.|.|.|\u001b[34mO\u001b[0m|\u001b[35mO\u001b[0m|\u001b[34mO\u001b[0m|.|.|\n",
            " 1 2 3 4 5 6 7 8\n",
            "\n",
            "\n",
            "|.|.|.|.|.|.|.|.|\n",
            "|.|.|.|.|\u001b[35mO\u001b[0m|.|.|.|\n",
            "|.|.|.|.|\u001b[34mO\u001b[0m|.|.|.|\n",
            "|.|.|.|.|\u001b[35mO\u001b[0m|.|.|.|\n",
            "|.|.|.|\u001b[35mO\u001b[0m|\u001b[35mO\u001b[0m|.|.|.|\n",
            "|.|.|.|\u001b[34mO\u001b[0m|\u001b[35mO\u001b[0m|.|.|.|\n",
            "|.|.|.|\u001b[34mO\u001b[0m|\u001b[34mO\u001b[0m|.|.|.|\n",
            "|.|.|.|\u001b[34mO\u001b[0m|\u001b[35mO\u001b[0m|\u001b[34mO\u001b[0m|.|.|\n",
            " 1 2 3 4 5 6 7 8\n",
            "\n",
            "\n",
            "Player Aurelien where do you want to place your piece ?6\n",
            "|.|.|.|.|.|.|.|.|\n",
            "|.|.|.|.|\u001b[35mO\u001b[0m|.|.|.|\n",
            "|.|.|.|.|\u001b[34mO\u001b[0m|.|.|.|\n",
            "|.|.|.|.|\u001b[35mO\u001b[0m|.|.|.|\n",
            "|.|.|.|\u001b[35mO\u001b[0m|\u001b[35mO\u001b[0m|.|.|.|\n",
            "|.|.|.|\u001b[34mO\u001b[0m|\u001b[35mO\u001b[0m|.|.|.|\n",
            "|.|.|.|\u001b[34mO\u001b[0m|\u001b[34mO\u001b[0m|\u001b[34mO\u001b[0m|.|.|\n",
            "|.|.|.|\u001b[34mO\u001b[0m|\u001b[35mO\u001b[0m|\u001b[34mO\u001b[0m|.|.|\n",
            " 1 2 3 4 5 6 7 8\n",
            "\n",
            "\n",
            "|.|.|.|.|\u001b[35mO\u001b[0m|.|.|.|\n",
            "|.|.|.|.|\u001b[35mO\u001b[0m|.|.|.|\n",
            "|.|.|.|.|\u001b[34mO\u001b[0m|.|.|.|\n",
            "|.|.|.|.|\u001b[35mO\u001b[0m|.|.|.|\n",
            "|.|.|.|\u001b[35mO\u001b[0m|\u001b[35mO\u001b[0m|.|.|.|\n",
            "|.|.|.|\u001b[34mO\u001b[0m|\u001b[35mO\u001b[0m|.|.|.|\n",
            "|.|.|.|\u001b[34mO\u001b[0m|\u001b[34mO\u001b[0m|\u001b[34mO\u001b[0m|.|.|\n",
            "|.|.|.|\u001b[34mO\u001b[0m|\u001b[35mO\u001b[0m|\u001b[34mO\u001b[0m|.|.|\n",
            " 1 2 3 4 5 6 7 8\n",
            "\n",
            "\n",
            "Player Aurelien where do you want to place your piece ?6\n",
            "|.|.|.|.|\u001b[35mO\u001b[0m|.|.|.|\n",
            "|.|.|.|.|\u001b[35mO\u001b[0m|.|.|.|\n",
            "|.|.|.|.|\u001b[34mO\u001b[0m|.|.|.|\n",
            "|.|.|.|.|\u001b[35mO\u001b[0m|.|.|.|\n",
            "|.|.|.|\u001b[35mO\u001b[0m|\u001b[35mO\u001b[0m|.|.|.|\n",
            "|.|.|.|\u001b[34mO\u001b[0m|\u001b[35mO\u001b[0m|\u001b[34mO\u001b[0m|.|.|\n",
            "|.|.|.|\u001b[34mO\u001b[0m|\u001b[34mO\u001b[0m|\u001b[34mO\u001b[0m|.|.|\n",
            "|.|.|.|\u001b[34mO\u001b[0m|\u001b[35mO\u001b[0m|\u001b[34mO\u001b[0m|.|.|\n",
            " 1 2 3 4 5 6 7 8\n",
            "\n",
            "\n",
            "|.|.|.|.|\u001b[35mO\u001b[0m|.|.|.|\n",
            "|.|.|.|.|\u001b[35mO\u001b[0m|.|.|.|\n",
            "|.|.|.|.|\u001b[34mO\u001b[0m|.|.|.|\n",
            "|.|.|.|.|\u001b[35mO\u001b[0m|.|.|.|\n",
            "|.|.|.|\u001b[35mO\u001b[0m|\u001b[35mO\u001b[0m|\u001b[35mO\u001b[0m|.|.|\n",
            "|.|.|.|\u001b[34mO\u001b[0m|\u001b[35mO\u001b[0m|\u001b[34mO\u001b[0m|.|.|\n",
            "|.|.|.|\u001b[34mO\u001b[0m|\u001b[34mO\u001b[0m|\u001b[34mO\u001b[0m|.|.|\n",
            "|.|.|.|\u001b[34mO\u001b[0m|\u001b[35mO\u001b[0m|\u001b[34mO\u001b[0m|.|.|\n",
            " 1 2 3 4 5 6 7 8\n",
            "\n",
            "\n",
            "Player Aurelien where do you want to place your piece ?7\n",
            "|.|.|.|.|\u001b[35mO\u001b[0m|.|.|.|\n",
            "|.|.|.|.|\u001b[35mO\u001b[0m|.|.|.|\n",
            "|.|.|.|.|\u001b[34mO\u001b[0m|.|.|.|\n",
            "|.|.|.|.|\u001b[35mO\u001b[0m|.|.|.|\n",
            "|.|.|.|\u001b[35mO\u001b[0m|\u001b[35mO\u001b[0m|\u001b[35mO\u001b[0m|.|.|\n",
            "|.|.|.|\u001b[34mO\u001b[0m|\u001b[35mO\u001b[0m|\u001b[34mO\u001b[0m|.|.|\n",
            "|.|.|.|\u001b[34mO\u001b[0m|\u001b[34mO\u001b[0m|\u001b[34mO\u001b[0m|.|.|\n",
            "|.|.|.|\u001b[34mO\u001b[0m|\u001b[35mO\u001b[0m|\u001b[34mO\u001b[0m|\u001b[34mO\u001b[0m|.|\n",
            " 1 2 3 4 5 6 7 8\n",
            "\n",
            "\n",
            "|.|.|.|.|\u001b[35mO\u001b[0m|.|.|.|\n",
            "|.|.|.|.|\u001b[35mO\u001b[0m|.|.|.|\n",
            "|.|.|.|.|\u001b[34mO\u001b[0m|.|.|.|\n",
            "|.|.|.|.|\u001b[35mO\u001b[0m|.|.|.|\n",
            "|.|.|.|\u001b[35mO\u001b[0m|\u001b[35mO\u001b[0m|\u001b[35mO\u001b[0m|.|.|\n",
            "|.|.|.|\u001b[34mO\u001b[0m|\u001b[35mO\u001b[0m|\u001b[34mO\u001b[0m|.|.|\n",
            "|.|.|.|\u001b[34mO\u001b[0m|\u001b[34mO\u001b[0m|\u001b[34mO\u001b[0m|.|.|\n",
            "|.|.|.|\u001b[34mO\u001b[0m|\u001b[35mO\u001b[0m|\u001b[34mO\u001b[0m|\u001b[34mO\u001b[0m|\u001b[35mO\u001b[0m|\n",
            " 1 2 3 4 5 6 7 8\n",
            "\n",
            "\n",
            "Player Aurelien where do you want to place your piece ?7\n",
            "|.|.|.|.|\u001b[35mO\u001b[0m|.|.|.|\n",
            "|.|.|.|.|\u001b[35mO\u001b[0m|.|.|.|\n",
            "|.|.|.|.|\u001b[34mO\u001b[0m|.|.|.|\n",
            "|.|.|.|.|\u001b[35mO\u001b[0m|.|.|.|\n",
            "|.|.|.|\u001b[35mO\u001b[0m|\u001b[35mO\u001b[0m|\u001b[35mO\u001b[0m|.|.|\n",
            "|.|.|.|\u001b[34mO\u001b[0m|\u001b[35mO\u001b[0m|\u001b[34mO\u001b[0m|.|.|\n",
            "|.|.|.|\u001b[34mO\u001b[0m|\u001b[34mO\u001b[0m|\u001b[34mO\u001b[0m|\u001b[34mO\u001b[0m|.|\n",
            "|.|.|.|\u001b[34mO\u001b[0m|\u001b[35mO\u001b[0m|\u001b[34mO\u001b[0m|\u001b[34mO\u001b[0m|\u001b[35mO\u001b[0m|\n",
            " 1 2 3 4 5 6 7 8\n",
            "\n",
            "\n",
            "Victory for player Aurelien\n"
          ],
          "name": "stdout"
        }
      ]
    }
  ]
}